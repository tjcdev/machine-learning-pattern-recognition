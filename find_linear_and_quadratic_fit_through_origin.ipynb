{
 "cells": [
  {
   "cell_type": "code",
   "execution_count": 48,
   "metadata": {
    "collapsed": false
   },
   "outputs": [
    {
     "data": {
      "image/png": "[encoded data removed]",
      "text/plain": [
       "<matplotlib.figure.Figure at 0x111059b10>"
      ]
     },
     "metadata": {},
     "output_type": "display_data"
    }
   ],
   "source": [
    "%matplotlib inline\n",
    "import numpy as np\n",
    "import matplotlib.pyplot as plt\n",
    "\n",
    "yy = [1.1, 2.3, 2.9]\n",
    "X = [0.8, 1.9, 3.1]\n",
    "plt.plot(X, yy, 'bx')\n",
    "\n",
    "def phi_linear(Xin):\n",
    "    return np.array([np.ones(len(Xin)), Xin]).T\n",
    "\n",
    "def phi_quadratic(Xin):\n",
    "    Xin = np.array(Xin)\n",
    "    return np.array([np.ones(len(Xin)), Xin, Xin**2]).T\n",
    "\n",
    "def fit_and_plot(phi_fn, X, yy):\n",
    "    w_fit = np.linalg.lstsq(phi_fn(X), yy)[0]\n",
    "    X_grid = np.arange(0,4, 0.01)\n",
    "    f_grid = np.dot(phi_fn(X_grid), w_fit)\n",
    "    plt.plot(X_grid, f_grid)\n",
    "    plt.show()\n",
    "\n",
    "fit_and_plot(phi_linear, X, yy)"
   ]
  },
  {
   "cell_type": "code",
   "execution_count": 9,
   "metadata": {
    "collapsed": false
   },
   "outputs": [
    {
     "data": {
      "text/plain": [
       "[<matplotlib.lines.Line2D at 0x111169450>]"
      ]
     },
     "execution_count": 9,
     "metadata": {},
     "output_type": "execute_result"
    },
    {
     "data": {
      "image/png": "[encoded data removed]",
      "text/plain": [
       "<matplotlib.figure.Figure at 0x110e96e50>"
      ]
     },
     "metadata": {},
     "output_type": "display_data"
    }
   ],
   "source": [
    "yy = [1.1, 2.3, 2.9]\n",
    "X = [0.8, 1.9, 3.1]\n",
    "plt.plot(X, yy, 'bx')"
   ]
  },
  {
   "cell_type": "code",
   "execution_count": 64,
   "metadata": {
    "collapsed": false
   },
   "outputs": [],
   "source": [
    "yy = np.array([1.1, 2.3, 2.9])\n",
    "X = np.array([0.8, 1.9, 3.1])\n",
    "X = X[:, None]"
   ]
  },
  {
   "cell_type": "code",
   "execution_count": 68,
   "metadata": {
    "collapsed": false
   },
   "outputs": [
    {
     "data": {
      "text/plain": [
       "array([ 1.02741703])"
      ]
     },
     "execution_count": 68,
     "metadata": {},
     "output_type": "execute_result"
    }
   ],
   "source": [
    "w_fit = np.linalg.lstsq(X, yy)[0]\n",
    "w_fit"
   ]
  },
  {
   "cell_type": "code",
   "execution_count": 72,
   "metadata": {
    "collapsed": false
   },
   "outputs": [
    {
     "data": {
      "text/plain": [
       "[<matplotlib.lines.Line2D at 0x11117c310>]"
      ]
     },
     "execution_count": 72,
     "metadata": {},
     "output_type": "execute_result"
    },
    {
     "data": {
      "image/png": "[encoded data removed]",
      "text/plain": [
       "<matplotlib.figure.Figure at 0x111ef0dd0>"
      ]
     },
     "metadata": {},
     "output_type": "display_data"
    }
   ],
   "source": [
    "plt.plot(X, yy, '.')\n",
    "plt.plot(X, w_fit*X, '-')"
   ]
  },
  {
   "cell_type": "code",
   "execution_count": null,
   "metadata": {
    "collapsed": true
   },
   "outputs": [],
   "source": []
  }
 ],
 "metadata": {
  "kernelspec": {
   "display_name": "Python 2",
   "language": "python",
   "name": "python2"
  },
  "language_info": {
   "codemirror_mode": {
    "name": "ipython",
    "version": 2
   },
   "file_extension": ".py",
   "mimetype": "text/x-python",
   "name": "python",
   "nbconvert_exporter": "python",
   "pygments_lexer": "ipython2",
   "version": "2.7.11"
  }
 },
 "nbformat": 4,
 "nbformat_minor": 0
}
